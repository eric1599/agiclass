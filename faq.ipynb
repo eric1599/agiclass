{
 "cells": [
  {
   "cell_type": "code",
   "execution_count": 1,
   "id": "4b0b56f3-8b3b-4323-9377-e71941317e82",
   "metadata": {},
   "outputs": [],
   "source": [
    "from moviepy.editor import VideoFileClip\n",
    "import os\n",
    "\n",
    "def convert_mp4_to_mp3(input_file, output_file):\n",
    "    try:\n",
    "        print(f\"Trying to conversion from {input_file} to {output_file}\")\n",
    "\n",
    "        video_clip = VideoFileClip(input_file)\n",
    "        audio_clip = video_clip.audio\n",
    "        audio_clip.write_audiofile(output_file)\n",
    "        audio_clip.close()\n",
    "        video_clip.close()\n",
    "        print(f\"Conversion from {input_file} to {output_file} successful.\")\n",
    "    except Exception as e:\n",
    "        print(f\"An error occurred: {str(e)}\")"
   ]
  },
  {
   "cell_type": "code",
   "execution_count": null,
   "id": "ae991cad-568d-4b1f-9a29-8032c04e2867",
   "metadata": {},
   "outputs": [],
   "source": [
    "import os\n",
    "from openai import OpenAI\n",
    "\n",
    "client = OpenAI(\n",
    "    # defaults to os.environ.get(\"OPENAI_API_KEY\")\n",
    "    #api_key=os.environ.get(\"OPENAI_API_KEY\"),\n",
    "    base_url=os.environ.get(\"OPENAI_EC_URL\"),\n",
    "    api_key=os.environ.get(\"EC_API_KEY\"),\n",
    "\n",
    ")"
   ]
  },
  {
   "cell_type": "code",
   "execution_count": null,
   "id": "fc85757d-1ff9-4630-b61b-49e9414aa943",
   "metadata": {},
   "outputs": [],
   "source": [
    "import assemblyai as aai \n",
    "\n",
    "def transcribe_audio(audio_path):\n",
    "    aai.settings.api_key = os.environ.get(\"AAI_KEY\")\n",
    "    config = aai.TranscriptionConfig(language_code=\"zh\")\n",
    "    transcriber = aai.Transcriber()\n",
    "    transcript = transcriber.transcribe(audio_path, config = config)\n",
    "    if transcript.status == aai.TranscriptStatus.error:\n",
    "        print(transcript.error)\n",
    "    else:\n",
    "        return transcript.text"
   ]
  },
  {
   "cell_type": "code",
   "execution_count": null,
   "id": "b947da61-a8fc-4c5b-9e34-0a0f411c0113",
   "metadata": {},
   "outputs": [],
   "source": [
    "import tiktoken\n",
    "\n",
    "def num_tokens_from_string(string: str, encoding_name: str) -> int:\n",
    "    encoding = tiktoken.get_encoding(encoding_name)\n",
    "    num_tokens = len(encoding.encode(string))\n",
    "    return num_tokens\n",
    "\n",
    "# Example usage\n",
    "text = \"tiktoken is great!\"\n",
    "num_tokens = num_tokens_from_string(text, \"cl100k_base\")\n",
    "print(f\"Number of tokens: {num_tokens}\")"
   ]
  },
  {
   "cell_type": "code",
   "execution_count": null,
   "id": "cf6bf1e9-d00a-4259-824f-b4d3c8f66616",
   "metadata": {},
   "outputs": [],
   "source": [
    "def refine_transcription(text):\n",
    "\n",
    "    prompt = f'''\n",
    "    As an expert in transcription and editing, refine the transcription --- \\n\\n{text}\\n\\n --- by \n",
    "    adding proper punctuation and capitalization. Segment the following text into coherent \n",
    "    questions and answers, format like qeustion:question new line  answer:answer 2 new lines.\n",
    "    '''\n",
    "    # print(prompt)\n",
    "\n",
    "    response = client.chat.completions.create(\n",
    "        model=\"gpt-4o\",\n",
    "        messages=[\n",
    "            {\n",
    "                \"role\": \"system\",\n",
    "                \"content\": [\n",
    "                    {\n",
    "                    \"type\": \"text\",\n",
    "                    \"text\": \"You are an expert in transcription and editing\"\n",
    "                }\n",
    "                ]\n",
    "            },    \n",
    "            {\n",
    "                \"role\": \"user\",\n",
    "                \"content\": [\n",
    "                    {\n",
    "                        \"type\": \"text\",\n",
    "                        \"text\": f\"{prompt}\"\n",
    "                    }\n",
    "                ]\n",
    "            }\n",
    "        ],\n",
    "        temperature=0,\n",
    "        max_tokens=4000\n",
    "    )\n",
    "\n",
    "    #print (f\"{response}\")\n",
    "    return response.choices[0].message.content"
   ]
  },
  {
   "cell_type": "code",
   "execution_count": null,
   "id": "f42fb2b3-adc2-4576-b017-305fba20b15c",
   "metadata": {},
   "outputs": [],
   "source": [
    "def save_text(text, output_path):\n",
    "    with open(output_path, \"w\", encoding=\"utf-8\") as file:\n",
    "        file.write(text)\n",
    "\n",
    "\n",
    "def process_video(vpath, apath):\n",
    "    \n",
    "    print(\"mp4 to mp3\")\n",
    "    convert_mp4_to_mp3(vpath, apath)\n",
    "    output_path = os.getcwd() + \"\\\\class\"\n",
    "\n",
    "    print(f\"init trans {apath =}\")\n",
    "    initial_transcription = transcribe_audio(apath)\n",
    "    save_text(initial_transcription, output_path + \"\\\\init_trans.txt\")\n",
    "\n",
    "    print(f\"refine trans \")\n",
    "    with open( output_path + \"\\\\init_trans.txt\", 'r') as f:\n",
    "        content = f.read()\n",
    "    initial_transcription = content\n",
    "    \n",
    "    num_tokens = num_tokens_from_string(initial_transcription,\"cl100k_base\")\n",
    "    print(f\"{num_tokens =}\")\n",
    "\n",
    "    refined_text = refine_transcription(initial_transcription)\n",
    "    save_text(refined_text, output_path + \"\\\\refined.txt\")"
   ]
  },
  {
   "cell_type": "code",
   "execution_count": null,
   "id": "4548c9c4-7f54-4746-bdcd-f60f1b330b16",
   "metadata": {},
   "outputs": [],
   "source": [
    "vpath = os.getcwd() + \"\\\\class\\\\09-faq.mp4\"\n",
    "apath = os.getcwd() + \"\\\\class\\\\09-faq.mp3\"\n",
    "\n",
    "process_video(vpath,apath)"
   ]
  }
 ],
 "metadata": {
  "kernelspec": {
   "display_name": "Python 3 (ipykernel)",
   "language": "python",
   "name": "python3"
  },
  "language_info": {
   "codemirror_mode": {
    "name": "ipython",
    "version": 3
   },
   "file_extension": ".py",
   "mimetype": "text/x-python",
   "name": "python",
   "nbconvert_exporter": "python",
   "pygments_lexer": "ipython3",
   "version": "3.9.19"
  }
 },
 "nbformat": 4,
 "nbformat_minor": 5
}
